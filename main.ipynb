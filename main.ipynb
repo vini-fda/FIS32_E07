{
 "cells": [
  {
   "cell_type": "markdown",
   "id": "63c6137a",
   "metadata": {},
   "source": [
    "# Fórmulas preliminares\n",
    "\n",
    "\n",
    "Coeficiente de amortecimento\n",
    "$$\n",
    "\\alpha = \\frac{R}{2L}\n",
    "$$\n",
    "\n",
    "Frequência natural de oscilação\n",
    "$$\n",
    "\\omega_0 = \\frac{1}{\\sqrt{LC}}\n",
    "$$\n"
   ]
  },
  {
   "cell_type": "code",
   "execution_count": 24,
   "id": "7de40836",
   "metadata": {},
   "outputs": [
    {
     "data": {
      "text/plain": [
       "α (generic function with 1 method)"
      ]
     },
     "execution_count": 24,
     "metadata": {},
     "output_type": "execute_result"
    }
   ],
   "source": [
    "# Fórmulas\n",
    "function ω_0(L, C)\n",
    "    return 1/sqrt(L*C)\n",
    "end\n",
    "\n",
    "function α(R, L)\n",
    "    return R/(2*L)\n",
    "end"
   ]
  },
  {
   "cell_type": "code",
   "execution_count": 25,
   "id": "3e5bbcd3",
   "metadata": {},
   "outputs": [],
   "source": [
    "# Parte A\n",
    "#Medidas no SI\n",
    "f = 100; #Hz\n",
    "R_gerador = 50;\n",
    "R = 1;\n",
    "L = 500e-6;\n",
    "C = 300e-6;"
   ]
  },
  {
   "cell_type": "code",
   "execution_count": 26,
   "id": "be7ff9c3",
   "metadata": {},
   "outputs": [
    {
     "name": "stdout",
     "output_type": "stream",
     "text": [
      "Parte A\n",
      "f = 100.00 Hz\n",
      "ω = 628.32 rad/s\n",
      "ω_0 = 2581.989 rad/s\n",
      "α = 51000.000 Ω/H\n"
     ]
    }
   ],
   "source": [
    "import Printf.@printf\n",
    "@printf(\"Parte A\\n\")\n",
    "@printf(\"f = %.2f Hz\\n\", f)\n",
    "@printf(\"ω = %.2f rad/s\\n\", 2*π*f)\n",
    "@printf(\"ω_0 = %.3f rad/s\\n\", ω_0(L, C))\n",
    "@printf(\"α = %.3f Ω/H\\n\", α(R_gerador + R, L))"
   ]
  },
  {
   "cell_type": "code",
   "execution_count": 30,
   "id": "c8233045",
   "metadata": {},
   "outputs": [
    {
     "name": "stdout",
     "output_type": "stream",
     "text": [
      "Parte B\n",
      "f = 100000.00 Hz\n",
      "ω = 628318.53 rad/s\n",
      "ω_0 = 2581.989 rad/s\n",
      "α = 51000.000 Ω/H\n"
     ]
    }
   ],
   "source": [
    "# Parte B\n",
    "#Medidas no SI\n",
    "f = 100e3; #100 KHz\n",
    "\n",
    "@printf(\"Parte B\\n\")\n",
    "@printf(\"f = %.2f Hz\\n\", f)\n",
    "@printf(\"ω = %.2f rad/s\\n\", 2*π*f)\n",
    "@printf(\"ω_0 = %.3f rad/s\\n\", ω_0(L, C))\n",
    "@printf(\"α = %.3f Ω/H\\n\", α(R_gerador + R, L))"
   ]
  },
  {
   "cell_type": "code",
   "execution_count": 31,
   "id": "b9ce9c57",
   "metadata": {},
   "outputs": [
    {
     "name": "stdout",
     "output_type": "stream",
     "text": [
      "Parte C\n",
      "f = 1000000.00 Hz\n",
      "ω = 6283185.31 rad/s\n",
      "ω_0 = 2581.989 rad/s\n",
      "α = 51000.000 Ω/H\n"
     ]
    }
   ],
   "source": [
    "# Parte C\n",
    "#Medidas no SI\n",
    "f = 1e6; #1 MHz\n",
    "\n",
    "@printf(\"Parte C\\n\")\n",
    "@printf(\"f = %.2f Hz\\n\", f)\n",
    "@printf(\"ω = %.2f rad/s\\n\", 2*π*f)\n",
    "@printf(\"ω_0 = %.3f rad/s\\n\", ω_0(L, C))\n",
    "@printf(\"α = %.3f Ω/H\\n\", α(R_gerador + R, L))"
   ]
  },
  {
   "cell_type": "code",
   "execution_count": null,
   "id": "53fcd862",
   "metadata": {},
   "outputs": [],
   "source": []
  }
 ],
 "metadata": {
  "kernelspec": {
   "display_name": "Julia 1.6.0",
   "language": "julia",
   "name": "julia-1.6"
  },
  "language_info": {
   "file_extension": ".jl",
   "mimetype": "application/julia",
   "name": "julia",
   "version": "1.6.1"
  }
 },
 "nbformat": 4,
 "nbformat_minor": 5
}
